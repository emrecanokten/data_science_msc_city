{
 "cells": [
  {
   "cell_type": "markdown",
   "metadata": {},
   "source": [
    "# Tutorial 1: Perceptron and Linear Separability\n",
    "\n",
    "In this tutorial we would like to implement and train a simple perceptron.\n",
    "\n",
    "We will be doing so by using PyTorch. PyTorch is a machine learning framework originally developed by Facebook AI Research (FAIR), but is now a thriving open-source project.\n",
    "\n",
    "Over the last couple of years it has gained traction in industry and academia as the defacto standard for implementing and deploying neural network models.\n",
    "\n",
    "PyTorch is particularly useful for implementing nueral networks, because as we will in this and the following tutorials, it provides many of the core operations required to train, implement and test neural networks out-of-the-box, such as applying backpropogation or executing stochastic gradient descend. \n",
    "\n",
    "Moreover, PyTorch also provides support for fine-tuning models on Graphical Processing Units (GPUs), this is partcularly useful in many industrial applications where training the models on standard computing hardware might be infeasible."
   ]
  },
  {
   "cell_type": "markdown",
   "metadata": {},
   "source": [
    "# Section 1: Implementing a simple linear NN"
   ]
  },
  {
   "cell_type": "markdown",
   "metadata": {},
   "source": [
    "First let's import PyTorch, make sure you install it if you don't have it already."
   ]
  },
  {
   "cell_type": "code",
   "execution_count": 95,
   "metadata": {},
   "outputs": [],
   "source": [
    "# to install pytorch using conda run the following in your terminal:\n",
    "# conda install -c pytorch pytorch\n",
    "import torch\n",
    "import torch.nn as nn"
   ]
  },
  {
   "cell_type": "markdown",
   "metadata": {},
   "source": [
    "To implement a neural network model in PyTorch we first need to define a template for it, we can do this by extending the nn.Module class"
   ]
  },
  {
   "cell_type": "code",
   "execution_count": 96,
   "metadata": {},
   "outputs": [],
   "source": [
    "class Net(nn.Module):\n",
    "    def __init__(self):\n",
    "        super(Net, self).__init__()\n",
    "        self.fc1 = nn.Linear(2,1)\n",
    "        \n",
    "    def forward(self, x):\n",
    "        x = self.fc1(x)\n",
    "        return x"
   ]
  },
  {
   "cell_type": "markdown",
   "metadata": {},
   "source": [
    "In the __init__ function we specify the type of nueral network we are using\n",
    "\n",
    "Here we specified it as nn.Linear(2,1), which models a NN with only one neuron that takes two inputs.\n",
    "\n",
    "fc1 stands for \"fully connected\" neural network, it is conventional in PyTorch to name neurons in this way, where 1 stands for which layer the neuron lies in. Here we have only one layer, but later in the module we will deal with multi-layer neurons where this convention will make more sense."
   ]
  },
  {
   "cell_type": "markdown",
   "metadata": {},
   "source": [
    "In the __forward__ function we specify which function to apply on the input\n",
    "\n",
    "In this example we specified the output of the neuron to be the plain output returned by nn.Linear neurons, which is just the weigted sum of the input plus the bias of the neuron."
   ]
  },
  {
   "cell_type": "markdown",
   "metadata": {},
   "source": [
    "Now that we have specified the template for our neuron (called Net) let's create one:"
   ]
  },
  {
   "cell_type": "code",
   "execution_count": 97,
   "metadata": {},
   "outputs": [],
   "source": [
    "net1 = Net()"
   ]
  },
  {
   "cell_type": "markdown",
   "metadata": {},
   "source": [
    "Because we didn't specify any weights and biases for our NN, PyTorch simply picks some random parameters.\n",
    "\n",
    "You can view these as follows:"
   ]
  },
  {
   "cell_type": "code",
   "execution_count": 98,
   "metadata": {},
   "outputs": [
    {
     "name": "stdout",
     "output_type": "stream",
     "text": [
      "[Parameter containing:\n",
      "tensor([[-0.5720, -0.1318]], requires_grad=True), Parameter containing:\n",
      "tensor([-0.6613], requires_grad=True)]\n"
     ]
    }
   ],
   "source": [
    "print(list(net1.parameters()))"
   ]
  },
  {
   "cell_type": "markdown",
   "metadata": {},
   "source": [
    "You can see from the above that there are two parameters set, these are the **weights of the neuron** (since we specified that it will take values as input) and one more parameter set, **this is the bias**.\n",
    "\n",
    "There are two important thing to notice here:\n",
    "\n",
    "First, the lists are wrapped as __tensor__, this is an important feature of PyTorch, all lists are wrapped in tensors, so you will need to get used to that. You can think of tensors as being more optimised multi-dimensional lists. You can read more about them here:\n",
    "\n",
    "https://pytorch.org/tutorials/beginner/nlp/pytorch_tutorial.html\n",
    "\n",
    "You will need to get used to wrapping any list you use with a PyTorch object in the tensor keyword. The good news is that using tensors is very similar to lists or numpy arrays, so there shouldn't be any new conceptual difficulty in using them.\n",
    "\n",
    "The other second to note in the parameter list is the keywords _requires_grad=True_. This is another importnat keyword in PyTorch which implies these parameters will be optimised by PyTorch if we run any backpropogation algorithm.\n",
    "\n",
    "We will not be running any backpropogation this tutorial, so you can ignore these keywords for now."
   ]
  },
  {
   "cell_type": "markdown",
   "metadata": {},
   "source": [
    "Now let's give our neuron an input to verify it is working properly. First let's create an input consiting of two coordinates (again, note that we have to wrap in a tensor)."
   ]
  },
  {
   "cell_type": "code",
   "execution_count": 99,
   "metadata": {},
   "outputs": [],
   "source": [
    "i1 = 0.1\n",
    "i2 = 0.5\n",
    "\n",
    "x_input1 = torch.tensor([[i1, i2]])"
   ]
  },
  {
   "cell_type": "markdown",
   "metadata": {},
   "source": [
    "Now let's feed it to the neuron and verfiy the output:"
   ]
  },
  {
   "cell_type": "code",
   "execution_count": 100,
   "metadata": {},
   "outputs": [
    {
     "data": {
      "text/plain": [
       "tensor([[-0.7844]], grad_fn=<AddmmBackward0>)"
      ]
     },
     "execution_count": 100,
     "metadata": {},
     "output_type": "execute_result"
    }
   ],
   "source": [
    "net1(x_input1)"
   ]
  },
  {
   "cell_type": "markdown",
   "metadata": {},
   "source": [
    "**You should verify that the output is the weighted sum of the inputs plus the bias.**"
   ]
  },
  {
   "cell_type": "markdown",
   "metadata": {},
   "source": [
    "---"
   ]
  },
  {
   "cell_type": "markdown",
   "metadata": {},
   "source": [
    "---"
   ]
  },
  {
   "cell_type": "markdown",
   "metadata": {},
   "source": [
    "## Verification of the Output Calculation"
   ]
  },
  {
   "cell_type": "code",
   "execution_count": 101,
   "metadata": {},
   "outputs": [
    {
     "data": {
      "text/plain": [
       "-0.7844226717948913"
      ]
     },
     "execution_count": 101,
     "metadata": {},
     "output_type": "execute_result"
    }
   ],
   "source": [
    "# W1 * i1   +   W2 * i2   +  Teta (Bias)\n",
    "(net1.fc1.weight.data.numpy()[0][0] * i1) + (net1.fc1.weight.data.numpy()[0][1] * i2) + net1.fc1.bias.data.numpy()[0]"
   ]
  },
  {
   "cell_type": "markdown",
   "metadata": {},
   "source": [
    "**This is equal to the output of the net1() nn above.**"
   ]
  },
  {
   "cell_type": "markdown",
   "metadata": {},
   "source": [
    "---"
   ]
  },
  {
   "cell_type": "markdown",
   "metadata": {},
   "source": [
    "---"
   ]
  },
  {
   "cell_type": "markdown",
   "metadata": {},
   "source": [
    "# Section 2: Implementing a perceptorn in PyTorch"
   ]
  },
  {
   "cell_type": "markdown",
   "metadata": {},
   "source": [
    "To make the above neural network a perceptron, we need to implement a threshold function. This can be specified by filling in the following two gaps:"
   ]
  },
  {
   "cell_type": "code",
   "execution_count": 102,
   "metadata": {},
   "outputs": [],
   "source": [
    "class Perceptron(nn.Module):\n",
    "    def __init__(self):\n",
    "        super(Perceptron, self).__init__()\n",
    "        self.fc1 = nn.Linear(2,1) # Gap 1\n",
    "        \n",
    "    def forward(self, x):\n",
    "        x = self.fc1(x)\n",
    "        x = torch.heaviside(x, torch.tensor(0.)) # Gap 2\n",
    "        return x"
   ]
  },
  {
   "cell_type": "markdown",
   "metadata": {},
   "source": [
    "Notice in the above we applied the heaviside function on x, before returning the output. **That is now our NN returns 1 if its output is more than 0, zero otherwise**. In other words it is now a Perceptron, hence why we also changed it's class name."
   ]
  },
  {
   "cell_type": "markdown",
   "metadata": {},
   "source": [
    "It would also be nice to hardcode the initial weights and bias, rather than relying on randomised values set by PyTorch. This can be done as follows:"
   ]
  },
  {
   "cell_type": "code",
   "execution_count": 103,
   "metadata": {},
   "outputs": [],
   "source": [
    "my_perceptron = Perceptron()\n",
    "my_perceptron.fc1.weight.data = torch.tensor([[0.4, 0.2]])\n",
    "my_perceptron.fc1.bias.data = torch.tensor([-0.3])"
   ]
  },
  {
   "cell_type": "markdown",
   "metadata": {},
   "source": [
    "Here I hardcode the weights 0.4 and 0.2, and the bias -0.3."
   ]
  },
  {
   "cell_type": "markdown",
   "metadata": {},
   "source": [
    "**Now let's check the output of this perceptron, and verify it is working as expected (testing both for when it should return 1 and when it should return 0):**"
   ]
  },
  {
   "cell_type": "markdown",
   "metadata": {},
   "source": [
    "---"
   ]
  },
  {
   "cell_type": "markdown",
   "metadata": {},
   "source": [
    "---"
   ]
  },
  {
   "cell_type": "markdown",
   "metadata": {},
   "source": [
    "## The case where output should be 1"
   ]
  },
  {
   "cell_type": "code",
   "execution_count": 104,
   "metadata": {},
   "outputs": [],
   "source": [
    "i1 = 0.5\n",
    "i2 = 0.9\n",
    "\n",
    "x_input2 = torch.tensor([[i1, i2]])"
   ]
  },
  {
   "cell_type": "code",
   "execution_count": 105,
   "metadata": {},
   "outputs": [
    {
     "data": {
      "text/plain": [
       "tensor([[1.]], grad_fn=<NotImplemented>)"
      ]
     },
     "execution_count": 105,
     "metadata": {},
     "output_type": "execute_result"
    }
   ],
   "source": [
    "my_perceptron(x_input2)"
   ]
  },
  {
   "cell_type": "code",
   "execution_count": 106,
   "metadata": {},
   "outputs": [
    {
     "data": {
      "text/plain": [
       "0.76"
      ]
     },
     "execution_count": 106,
     "metadata": {},
     "output_type": "execute_result"
    }
   ],
   "source": [
    "# W1 * i1   +   W2 * i2   +  Teta (Bias)\n",
    "(0.5 * i1) + (0.9 * i2) + (-0.3)"
   ]
  },
  {
   "cell_type": "markdown",
   "metadata": {},
   "source": [
    "The weighted sum of the inputs plus the bias is **above 0**, so the fact that the **output of the perceptron is 1** is validated."
   ]
  },
  {
   "cell_type": "markdown",
   "metadata": {},
   "source": [
    "## The case where output should be 0"
   ]
  },
  {
   "cell_type": "code",
   "execution_count": 107,
   "metadata": {},
   "outputs": [],
   "source": [
    "i1 = 0.2\n",
    "i2 = 0.1\n",
    "\n",
    "x_input3 = torch.tensor([[i1, i2]])"
   ]
  },
  {
   "cell_type": "code",
   "execution_count": 108,
   "metadata": {},
   "outputs": [
    {
     "data": {
      "text/plain": [
       "tensor([[0.]], grad_fn=<NotImplemented>)"
      ]
     },
     "execution_count": 108,
     "metadata": {},
     "output_type": "execute_result"
    }
   ],
   "source": [
    "my_perceptron(x_input3)"
   ]
  },
  {
   "cell_type": "code",
   "execution_count": 109,
   "metadata": {},
   "outputs": [
    {
     "data": {
      "text/plain": [
       "-0.10999999999999999"
      ]
     },
     "execution_count": 109,
     "metadata": {},
     "output_type": "execute_result"
    }
   ],
   "source": [
    "# W1 * i1  +   W2 * i2   +  Teta (Bias)\n",
    "(0.5 * i1) + (0.9 * i2) + (-0.3)"
   ]
  },
  {
   "cell_type": "markdown",
   "metadata": {},
   "source": [
    "The weighted sum of the inputs plus the bias is **below 0**, so the fact that the **output of the perceptron is 0** is validated."
   ]
  },
  {
   "cell_type": "markdown",
   "metadata": {},
   "source": [
    "---"
   ]
  },
  {
   "cell_type": "markdown",
   "metadata": {},
   "source": [
    "---"
   ]
  },
  {
   "cell_type": "markdown",
   "metadata": {},
   "source": [
    "# Section 3: Solving a classification problem using a Perceptron"
   ]
  },
  {
   "cell_type": "markdown",
   "metadata": {},
   "source": [
    "You are now equipped with the knowledge of using PyTorch to implement a perceptron that solves the classification problem presented in the following graph. The model takes as input two attributes of a student: \n",
    "\n",
    "- **What proportion of exercises solved**  \n",
    "- **What proportion of lectures they visited**\n",
    "\n",
    "Both are represented by a number in the interval [0,1]. Students who are above the line are classified as having passed the exam (so they get a value of 1), or zero otherwise (meaning they failed the exam).\n",
    "\n",
    "**Set  the  weights  of  a  threshold  perceptron  that  implements  this problem.**"
   ]
  },
  {
   "cell_type": "markdown",
   "metadata": {},
   "source": [
    "<img src=\"ex1.png\">"
   ]
  },
  {
   "cell_type": "markdown",
   "metadata": {},
   "source": [
    "---"
   ]
  },
  {
   "cell_type": "markdown",
   "metadata": {},
   "source": [
    "---"
   ]
  },
  {
   "cell_type": "markdown",
   "metadata": {},
   "source": [
    "## Correction of the Functions"
   ]
  },
  {
   "cell_type": "code",
   "execution_count": 110,
   "metadata": {},
   "outputs": [],
   "source": [
    "class ExNet(nn.Module):\n",
    "    def __init__(self):\n",
    "        super(ExNet, self).__init__()\n",
    "        self.fc1 = nn.Linear(2,1)\n",
    "        \n",
    "        #self.fc1.weights = torch.nn.Parameter(torch.tensor([[w1],[w2]]))\n",
    "        #self.fc1.bias = torch.nn.Parameter(torch.tensor([[teta]]))\n",
    "        \n",
    "        self.heaviside = torch.heaviside\n",
    "        \n",
    "    def forward(self, x):\n",
    "        x = self.fc1(x)\n",
    "        output = self.heaviside(x, torch.tensor(0.))\n",
    "        return output"
   ]
  },
  {
   "cell_type": "code",
   "execution_count": 111,
   "metadata": {},
   "outputs": [],
   "source": [
    "# define weights\n",
    "w1 = 0.6666667\n",
    "w2 = 1.0\n",
    "teta = -0.5\n",
    "\n",
    "# create the exnet object\n",
    "exnet = ExNet()\n",
    "\n",
    "# assign weights\n",
    "exnet.fc1.weight.data = torch.tensor([[w1, w1]])\n",
    "exnet.fc1.bias.data = torch.tensor([teta])"
   ]
  },
  {
   "cell_type": "markdown",
   "metadata": {},
   "source": [
    "## Validation of the Perceptron"
   ]
  },
  {
   "cell_type": "markdown",
   "metadata": {},
   "source": [
    "Two points that the linear separator intersects will be used as the input to the perceptron. It is expected to see:\n",
    "- 0 (or values very close to 0) as the output of the weighted input function,\n",
    "- 0 as the output of the perceptron since 0. has been defined in the heaviside function."
   ]
  },
  {
   "cell_type": "code",
   "execution_count": 112,
   "metadata": {},
   "outputs": [
    {
     "name": "stdout",
     "output_type": "stream",
     "text": [
      "2.4999999959085528e-08\n",
      "tensor([[0.]], grad_fn=<NotImplemented>)\n"
     ]
    }
   ],
   "source": [
    "# define inputs\n",
    "i1 = 0.75\n",
    "i2 = 0.\n",
    "\n",
    "# assign inputs\n",
    "x_input3 = torch.tensor([[i1, i2]])\n",
    "\n",
    "# print out the weighted input and the output of the nn\n",
    "print((w1 * i1) + (w2 * i2) + (teta))\n",
    "print(exnet(x_input3))"
   ]
  },
  {
   "cell_type": "code",
   "execution_count": 113,
   "metadata": {},
   "outputs": [
    {
     "name": "stdout",
     "output_type": "stream",
     "text": [
      "0.0\n",
      "tensor([[0.]], grad_fn=<NotImplemented>)\n"
     ]
    }
   ],
   "source": [
    "# define inputs\n",
    "i1 = 0.\n",
    "i2 = 0.5\n",
    "\n",
    "# assign inputs\n",
    "x_input3 = torch.tensor([[i1, i2]])\n",
    "\n",
    "# print out the weighted input and the output of the nn\n",
    "print((w1 * i1) + (w2 * i2) + (teta))\n",
    "print(exnet(x_input3))"
   ]
  },
  {
   "cell_type": "markdown",
   "metadata": {},
   "source": [
    "---"
   ]
  },
  {
   "cell_type": "markdown",
   "metadata": {},
   "source": [
    "---"
   ]
  },
  {
   "cell_type": "markdown",
   "metadata": {},
   "source": [
    "# Section 4: Training a perceptron"
   ]
  },
  {
   "cell_type": "markdown",
   "metadata": {},
   "source": [
    "In the above problem, we first computed the weights of the model by hand and then hardcoded the model with these values. In real life this is impractical, so we need to implement a method that trains the model using some training data. In particular we will be implementing the method presented in the lecture and then we will evaluate it's performance."
   ]
  },
  {
   "cell_type": "markdown",
   "metadata": {},
   "source": [
    "We will be using the following small dataset as training:"
   ]
  },
  {
   "cell_type": "code",
   "execution_count": 114,
   "metadata": {},
   "outputs": [],
   "source": [
    "d = [[0.7, 0.3, 1], \n",
    "     [0.4, 0.5, 1], \n",
    "     [0.6, 0.9, 1], \n",
    "     [0.2, 0.2, 0]\n",
    "     ]\n",
    "\n",
    "t = torch.tensor(d)"
   ]
  },
  {
   "cell_type": "markdown",
   "metadata": {},
   "source": [
    "We will then be using the following template for the perceptron we will train (it is the same one as above, just repeated here for convenience)."
   ]
  },
  {
   "cell_type": "code",
   "execution_count": 115,
   "metadata": {},
   "outputs": [],
   "source": [
    "class Net(nn.Module):\n",
    "    def __init__(self):\n",
    "        super(Net, self).__init__()\n",
    "        self.fc1 = nn.Linear(2,1)\n",
    "        \n",
    "    def forward(self, x):\n",
    "        x = self.fc1(x)\n",
    "        x = torch.heaviside(x, torch.tensor(0.))\n",
    "        return x"
   ]
  },
  {
   "cell_type": "markdown",
   "metadata": {},
   "source": [
    "Now let's define some values, first we define our training data (which contains only four training samples), which we call input_vectors, then we specify the learning_rate, and finally we define some initial weights to kick-start our training with:"
   ]
  },
  {
   "cell_type": "code",
   "execution_count": 116,
   "metadata": {},
   "outputs": [],
   "source": [
    "l = 0.1\n",
    "i = torch.tensor([-0.5, 0.3, -0.2])"
   ]
  },
  {
   "cell_type": "markdown",
   "metadata": {},
   "source": [
    "For the training method, it will be useful to have the following helper function, which takes as input a nn and some data, it then returns True, if the nn fails to classify a single sample correctly. That's why it's called keep_training, since whenever it returns True, it will imply that our nn require more training."
   ]
  },
  {
   "cell_type": "code",
   "execution_count": 117,
   "metadata": {},
   "outputs": [],
   "source": [
    "def keep_training(nn, data):\n",
    "    for sample in data:\n",
    "        if not torch.eq(nn(sample[0:2]), sample[-1]):\n",
    "            return True\n",
    "    return False"
   ]
  },
  {
   "cell_type": "markdown",
   "metadata": {},
   "source": [
    "We now implement a function that implements the learning algorithm on slide 22 of today's lecture:"
   ]
  },
  {
   "cell_type": "code",
   "execution_count": 118,
   "metadata": {},
   "outputs": [],
   "source": [
    "def train_perceptron(learning_rate, initial_weights, data):\n",
    "    perceptron = Net() # Gap 1\n",
    "    perceptron.fc1.bias.data = initial_weights[0] # Gap 2\n",
    "    perceptron.fc1.weight.data = initial_weights[1:] # Gap 3\n",
    "    \n",
    "    while keep_training(perceptron, data):\n",
    "        for sample in data:\n",
    "            temp_output = perceptron(sample[0:2]) # Gap 4\n",
    "            label = sample[-1]\n",
    "            delta_w = torch.tensor(learning_rate) * (label - temp_output) * torch.tensor([1., sample.numpy()[0], sample.numpy()[1]]) # Gap 5\n",
    "            print(\"Label:   \", label)\n",
    "            print(\"Output:  \", temp_output)\n",
    "            print(\"Delta W: \", delta_w)\n",
    "            print('---')\n",
    "            perceptron.fc1.bias.data = perceptron.fc1.bias.data + delta_w[0] # Gap 6\n",
    "            perceptron.fc1.weight.data = perceptron.fc1.weight.data + delta_w[1:] # Gap 7\n",
    "        print('---')\n",
    "        print(\"Bias:   \", perceptron.fc1.bias.data)\n",
    "        print(\"Weight: \", perceptron.fc1.weight.data)\n",
    "        print('\\n')\n",
    "            \n",
    "    return perceptron"
   ]
  },
  {
   "cell_type": "markdown",
   "metadata": {},
   "source": [
    "Let us now run our algorithm, and see how far it goes in solving or classification problem!"
   ]
  },
  {
   "cell_type": "code",
   "execution_count": 119,
   "metadata": {},
   "outputs": [
    {
     "name": "stdout",
     "output_type": "stream",
     "text": [
      "Label:    tensor(1.)\n",
      "Output:   tensor(0., grad_fn=<NotImplemented>)\n",
      "Delta W:  tensor([0.1000, 0.0700, 0.0300], grad_fn=<MulBackward0>)\n",
      "---\n",
      "Label:    tensor(1.)\n",
      "Output:   tensor(0., grad_fn=<NotImplemented>)\n",
      "Delta W:  tensor([0.1000, 0.0400, 0.0500], grad_fn=<MulBackward0>)\n",
      "---\n",
      "Label:    tensor(1.)\n",
      "Output:   tensor(0., grad_fn=<NotImplemented>)\n",
      "Delta W:  tensor([0.1000, 0.0600, 0.0900], grad_fn=<MulBackward0>)\n",
      "---\n",
      "Label:    tensor(0.)\n",
      "Output:   tensor(0., grad_fn=<NotImplemented>)\n",
      "Delta W:  tensor([0., 0., 0.], grad_fn=<MulBackward0>)\n",
      "---\n",
      "---\n",
      "Bias:    tensor(-0.2000)\n",
      "Weight:  tensor([ 0.4700, -0.0300])\n",
      "\n",
      "\n",
      "Label:    tensor(1.)\n",
      "Output:   tensor(1., grad_fn=<NotImplemented>)\n",
      "Delta W:  tensor([0., 0., 0.], grad_fn=<MulBackward0>)\n",
      "---\n",
      "Label:    tensor(1.)\n",
      "Output:   tensor(0., grad_fn=<NotImplemented>)\n",
      "Delta W:  tensor([0.1000, 0.0400, 0.0500], grad_fn=<MulBackward0>)\n",
      "---\n",
      "Label:    tensor(1.)\n",
      "Output:   tensor(1., grad_fn=<NotImplemented>)\n",
      "Delta W:  tensor([0., 0., 0.], grad_fn=<MulBackward0>)\n",
      "---\n",
      "Label:    tensor(0.)\n",
      "Output:   tensor(1., grad_fn=<NotImplemented>)\n",
      "Delta W:  tensor([-0.1000, -0.0200, -0.0200], grad_fn=<MulBackward0>)\n",
      "---\n",
      "---\n",
      "Bias:    tensor(-0.2000)\n",
      "Weight:  tensor([ 4.9000e-01, -9.3132e-09])\n",
      "\n",
      "\n",
      "Label:    tensor(1.)\n",
      "Output:   tensor(1., grad_fn=<NotImplemented>)\n",
      "Delta W:  tensor([0., 0., 0.], grad_fn=<MulBackward0>)\n",
      "---\n",
      "Label:    tensor(1.)\n",
      "Output:   tensor(0., grad_fn=<NotImplemented>)\n",
      "Delta W:  tensor([0.1000, 0.0400, 0.0500], grad_fn=<MulBackward0>)\n",
      "---\n",
      "Label:    tensor(1.)\n",
      "Output:   tensor(1., grad_fn=<NotImplemented>)\n",
      "Delta W:  tensor([0., 0., 0.], grad_fn=<MulBackward0>)\n",
      "---\n",
      "Label:    tensor(0.)\n",
      "Output:   tensor(1., grad_fn=<NotImplemented>)\n",
      "Delta W:  tensor([-0.1000, -0.0200, -0.0200], grad_fn=<MulBackward0>)\n",
      "---\n",
      "---\n",
      "Bias:    tensor(-0.2000)\n",
      "Weight:  tensor([0.5100, 0.0300])\n",
      "\n",
      "\n"
     ]
    },
    {
     "data": {
      "text/plain": [
       "Net(\n",
       "  (fc1): Linear(in_features=2, out_features=1, bias=True)\n",
       ")"
      ]
     },
     "execution_count": 119,
     "metadata": {},
     "output_type": "execute_result"
    }
   ],
   "source": [
    "train_perceptron(l, i, t)"
   ]
  },
  {
   "cell_type": "markdown",
   "metadata": {},
   "source": [
    "---"
   ]
  },
  {
   "cell_type": "markdown",
   "metadata": {},
   "source": [
    "---"
   ]
  },
  {
   "cell_type": "markdown",
   "metadata": {},
   "source": [
    "---"
   ]
  },
  {
   "cell_type": "markdown",
   "metadata": {},
   "source": [
    "## Run Perceptron for Validation"
   ]
  },
  {
   "cell_type": "code",
   "execution_count": 120,
   "metadata": {},
   "outputs": [],
   "source": [
    "# create a new perceptron from the nn defined above\n",
    "perceptron2 = Net()"
   ]
  },
  {
   "cell_type": "code",
   "execution_count": 121,
   "metadata": {},
   "outputs": [],
   "source": [
    "# define its bias and weights\n",
    "perceptron2.fc1.bias.data = torch.tensor([-0.2])\n",
    "perceptron2.fc1.weight.data = torch.tensor([[0.51, 0.03]])"
   ]
  },
  {
   "cell_type": "code",
   "execution_count": 122,
   "metadata": {},
   "outputs": [
    {
     "name": "stdout",
     "output_type": "stream",
     "text": [
      "tensor([1.], grad_fn=<NotImplemented>)\n",
      "tensor([1.], grad_fn=<NotImplemented>)\n",
      "tensor([1.], grad_fn=<NotImplemented>)\n",
      "tensor([0.], grad_fn=<NotImplemented>)\n"
     ]
    }
   ],
   "source": [
    "# run the perceptron for the points in the training data\n",
    "print(perceptron2(torch.tensor([0.7, 0.3])))\n",
    "print(perceptron2(torch.tensor([0.4, 0.5])))\n",
    "print(perceptron2(torch.tensor([0.6, 0.9])))\n",
    "print(perceptron2(torch.tensor([0.2, 0.2])))"
   ]
  },
  {
   "cell_type": "markdown",
   "metadata": {},
   "source": [
    "---"
   ]
  },
  {
   "cell_type": "markdown",
   "metadata": {},
   "source": [
    "---"
   ]
  },
  {
   "cell_type": "markdown",
   "metadata": {
    "tags": []
   },
   "source": [
    "## Generalisation Error"
   ]
  },
  {
   "cell_type": "markdown",
   "metadata": {},
   "source": [
    "**Question:** *Compute the generalisation error of the perceptron trained above w.r.t. the ideal classification given in the above figure, i.e.  draw the classification boundary for the trained perceptron and compare it with that of the figure.*"
   ]
  },
  {
   "cell_type": "code",
   "execution_count": 9,
   "metadata": {},
   "outputs": [],
   "source": [
    "import matplotlib.pyplot as plt"
   ]
  },
  {
   "cell_type": "code",
   "execution_count": 11,
   "metadata": {},
   "outputs": [
    {
     "data": {
      "text/plain": [
       "<matplotlib.collections.PathCollection at 0x7f9036e07910>"
      ]
     },
     "execution_count": 11,
     "metadata": {},
     "output_type": "execute_result"
    },
    {
     "data": {
      "image/png": "[encoded data removed]",
      "text/plain": [
       "<Figure size 360x504 with 1 Axes>"
      ]
     },
     "metadata": {
      "needs_background": "light"
     },
     "output_type": "display_data"
    }
   ],
   "source": [
    "# points for the perceptron in Section 4\n",
    "point1 = [0, 6.665]\n",
    "point2 = [0.392, 0]\n",
    "\n",
    "x_values = [point1[0], point2[0]]\n",
    "y_values = [point1[1], point2[1]]\n",
    "\n",
    "# points for the perceptron in Section 3\n",
    "point11 = [0, 0.5]\n",
    "point22 = [0.75, 0]\n",
    "\n",
    "x_values1 = [point11[0], point22[0]]\n",
    "y_values1 = [point11[1], point22[1]]\n",
    "\n",
    "# visual adjustments\n",
    "plt.figure(figsize = (5, 7))\n",
    "plt.xlim([0, 5])\n",
    "plt.ylim([0, 7])\n",
    "\n",
    "plt.xlabel(\"i1\")\n",
    "plt.ylabel(\"i2\")\n",
    "\n",
    "# plot the lines\n",
    "plt.plot(x_values, y_values)\n",
    "plt.plot(x_values1, y_values1)\n",
    "\n",
    "# plot the data points in the training data\n",
    "plt.scatter(d[0][0], d[0][1])\n",
    "plt.scatter(d[1][0], d[1][1])\n",
    "plt.scatter(d[2][0], d[2][1])\n",
    "plt.scatter(d[3][0], d[3][1])"
   ]
  },
  {
   "cell_type": "code",
   "execution_count": null,
   "metadata": {},
   "outputs": [],
   "source": []
  },
  {
   "cell_type": "code",
   "execution_count": null,
   "metadata": {},
   "outputs": [],
   "source": []
  },
  {
   "cell_type": "code",
   "execution_count": null,
   "metadata": {},
   "outputs": [],
   "source": []
  },
  {
   "cell_type": "code",
   "execution_count": null,
   "metadata": {},
   "outputs": [],
   "source": []
  },
  {
   "cell_type": "code",
   "execution_count": null,
   "metadata": {},
   "outputs": [],
   "source": []
  },
  {
   "cell_type": "code",
   "execution_count": null,
   "metadata": {},
   "outputs": [],
   "source": []
  },
  {
   "cell_type": "code",
   "execution_count": null,
   "metadata": {},
   "outputs": [],
   "source": []
  },
  {
   "cell_type": "code",
   "execution_count": null,
   "metadata": {},
   "outputs": [],
   "source": []
  },
  {
   "cell_type": "code",
   "execution_count": null,
   "metadata": {},
   "outputs": [],
   "source": []
  },
  {
   "cell_type": "code",
   "execution_count": null,
   "metadata": {},
   "outputs": [],
   "source": []
  },
  {
   "cell_type": "code",
   "execution_count": null,
   "metadata": {},
   "outputs": [],
   "source": []
  },
  {
   "cell_type": "code",
   "execution_count": null,
   "metadata": {},
   "outputs": [],
   "source": []
  },
  {
   "cell_type": "code",
   "execution_count": null,
   "metadata": {},
   "outputs": [],
   "source": []
  },
  {
   "cell_type": "code",
   "execution_count": null,
   "metadata": {},
   "outputs": [],
   "source": []
  }
 ],
 "metadata": {
  "kernelspec": {
   "display_name": "Python [conda env:nc_lab01]",
   "language": "python",
   "name": "conda-env-nc_lab01-py"
  },
  "language_info": {
   "codemirror_mode": {
    "name": "ipython",
    "version": 3
   },
   "file_extension": ".py",
   "mimetype": "text/x-python",
   "name": "python",
   "nbconvert_exporter": "python",
   "pygments_lexer": "ipython3",
   "version": "3.8.12"
  }
 },
 "nbformat": 4,
 "nbformat_minor": 4
}
